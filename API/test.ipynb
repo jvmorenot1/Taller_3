{
 "cells": [
  {
   "cell_type": "code",
   "execution_count": 1,
   "metadata": {},
   "outputs": [],
   "source": [
    "from prediction_model import PredictionModel\n",
    "import pandas as pd\n",
    "import shap\n",
    "from copy import deepcopy"
   ]
  },
  {
   "cell_type": "code",
   "execution_count": 2,
   "metadata": {},
   "outputs": [],
   "source": [
    "features = [\"gender\", \"SeniorCitizen\", \"Partner\", \"Dependents\", \"tenure\",\n",
    "        \"PhoneService\", \"MultipleLines\", \"InternetService\", \"OnlineSecurity\", \"OnlineBackup\", \"DeviceProtection\",\n",
    "        \"TechSupport\", \"StreamingTV\", \"StreamingMovies\", \"Contract\", \"PaperlessBilling\", \"PaymentMethod\",\n",
    "        \"MonthlyCharges\", \"TotalCharges\"]\n",
    "\n",
    "test_df = pd.read_json(\"https://drive.google.com/uc?export=download&id=14ewb12iKEmVW2eVQXuNEhC61imZkj5_E\", orient='columns')\n",
    "\n",
    "test_df = test_df.head(1)"
   ]
  },
  {
   "cell_type": "code",
   "execution_count": 3,
   "metadata": {},
   "outputs": [],
   "source": [
    "predicion_model = PredictionModel(2)\n",
    "#estimator_deep_copy = deepcopy(predicion_model.model)"
   ]
  },
  {
   "cell_type": "code",
   "execution_count": 66,
   "metadata": {},
   "outputs": [
    {
     "data": {
      "text/plain": [
       "array([0, 1])"
      ]
     },
     "execution_count": 66,
     "metadata": {},
     "output_type": "execute_result"
    }
   ],
   "source": [
    "predicion_model.model.classes_"
   ]
  },
  {
   "cell_type": "code",
   "execution_count": 7,
   "metadata": {},
   "outputs": [
    {
     "data": {
      "text/plain": [
       "array([[0.34688135, 0.65311865]])"
      ]
     },
     "execution_count": 7,
     "metadata": {},
     "output_type": "execute_result"
    }
   ],
   "source": [
    "predicion_model.model.predict_proba(test_df[features])"
   ]
  },
  {
   "cell_type": "code",
   "execution_count": 4,
   "metadata": {},
   "outputs": [],
   "source": [
    "X_t = pd.DataFrame(\n",
    "    predicion_model.model[:-1].transform(test_df[features]),\n",
    "    columns=[f.split(\"__\")[1] for f in predicion_model.model[:-1].get_feature_names_out()]\n",
    ")"
   ]
  },
  {
   "cell_type": "code",
   "execution_count": 6,
   "metadata": {},
   "outputs": [
    {
     "name": "stderr",
     "output_type": "stream",
     "text": [
      "X has feature names, but RandomForestClassifier was fitted without feature names\n"
     ]
    },
    {
     "data": {
      "text/plain": [
       "{'PhoneService_No': 3.00696541453088,\n",
       " 'PhoneService_Yes': -3.00696541453088,\n",
       " 'MultipleLines_No phone service': 3.00696541453088}"
      ]
     },
     "execution_count": 6,
     "metadata": {},
     "output_type": "execute_result"
    }
   ],
   "source": [
    "def model(X):\n",
    "    return predicion_model.model[\"classifier\"].predict_proba(X)[:,1]\n",
    "\n",
    "explainer = shap.Explainer(model, X_t)\n",
    "shap_values = explainer(X_t)\n",
    "\n",
    "columns = [f.split(\"__\")[1] for f in predicion_model.model[:-1].get_feature_names_out()]\n",
    "variables_cont = dict(zip(columns, shap_values.data[0]))\n",
    "dict(sorted(variables_cont.items(), key=lambda item: abs(item[1]),reverse=True)[:3])"
   ]
  },
  {
   "cell_type": "code",
   "execution_count": null,
   "metadata": {},
   "outputs": [],
   "source": []
  }
 ],
 "metadata": {
  "kernelspec": {
   "display_name": "Taller3Env",
   "language": "python",
   "name": "python3"
  },
  "language_info": {
   "codemirror_mode": {
    "name": "ipython",
    "version": 3
   },
   "file_extension": ".py",
   "mimetype": "text/x-python",
   "name": "python",
   "nbconvert_exporter": "python",
   "pygments_lexer": "ipython3",
   "version": "3.11.6"
  }
 },
 "nbformat": 4,
 "nbformat_minor": 2
}
